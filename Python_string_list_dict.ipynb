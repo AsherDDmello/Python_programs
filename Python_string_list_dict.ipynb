{
 "cells": [
  {
   "cell_type": "code",
   "execution_count": 2,
   "metadata": {},
   "outputs": [
    {
     "name": "stdout",
     "output_type": "stream",
     "text": [
      "str1: Asher\n",
      "str2: Dmello\n",
      "Asher Dmello is learning PYTHON\n",
      "str1*2: AsherAsher\n",
      "str1[0:3] Ash\n",
      "My name is Asher and my age is 24 years \n",
      "str3.lower() : is learning python\n",
      "str1.upper():  ASHER\n",
      "str4.lstrip(): remove left white spaces\n",
      "Asher is learning Data Science\n"
     ]
    }
   ],
   "source": [
    "# Python Strings example\n",
    "# Asher Dmello\n",
    "#Reference: https://www.tutorialspoint.com/python/python_strings.htm\n",
    "# Question: Create multiple strings and manipulate them using functions\n",
    "# Solution:\n",
    "str1= 'Asher'\n",
    "print (\"str1: \"+str1)\n",
    "str2= 'Dmello'\n",
    "print (\"str2: \"+str2)\n",
    "str3= 'is learning PYTHON'\n",
    "print (str1 +' '+str2+' '+str3)\n",
    "print(\"str1*2: \" + str1*2)\n",
    "print(\"str1[0:3] \" + str1[0:3])\n",
    "print(\"My name is %s and my age is %d years \" %('Asher',24))\n",
    "print (\"str3.lower() : \"+str3.lower())\n",
    "print (\"str1.upper():  \"+str1.upper())\n",
    "str4=\"      remove left white spaces\"\n",
    "print (\"str4.lstrip(): \"+ str4.lstrip())\n",
    "print (str1 +\" \"+ str3.replace(\"PYTHON\", \"Data Science\"))"
   ]
  },
  {
   "cell_type": "code",
   "execution_count": 3,
   "metadata": {},
   "outputs": [
    {
     "name": "stdout",
     "output_type": "stream",
     "text": [
      "list1: ['Asher', 'Dmello', 1993, 2017]\n",
      "list1[1]:  Dmello\n",
      "list1[-1]:  2017\n",
      "['Asher', 'Dmello', 1993, 2018]\n",
      "After deleting value at index 2 :  ['Asher', 'Dmello', 2018]\n",
      "length of list1:  3\n",
      "list2: [1764, 2006, 1993, 2017]\n",
      "Max of list2:  2017\n",
      "Min of list2:  1764\n",
      "list2: [1764, 2006, 1993, 2017, 9999]\n",
      "list2: [1764, 2006, 1993, 3493, 2017, 9999]\n",
      "count 9999 : 1\n",
      "list2 sort: [1764, 1993, 2006, 2017, 3493, 9999]\n",
      "list2 sorted: [1764, 1993, 2006, 2017, 3493, 9999]\n",
      "list2 sorted reverse: [9999, 3493, 2017, 2006, 1993, 1764]\n",
      "list3  ['zzz', 'dmello', 'Dmello', 'Asher', 'asher', 'aaa']\n",
      "list3 sort: ['Asher', 'Dmello', 'aaa', 'asher', 'dmello', 'zzz']\n",
      "list3 sorted: ['Asher', 'Dmello', 'aaa', 'asher', 'dmello', 'zzz']\n",
      "list3 sorted reverse: ['zzz', 'dmello', 'asher', 'aaa', 'Dmello', 'Asher']\n"
     ]
    }
   ],
   "source": [
    "# Python Lists example\n",
    "# Asher Dmello\n",
    "#Reference: https://www.tutorialspoint.com/python/python_strings.htm\n",
    "# Question: Create multiple lists and manipulate them using functions\n",
    "# Solution:\n",
    "list1 = ['Asher', 'Dmello', 1993, 2017];\n",
    "print (\"list1:\", list1)\n",
    "print (\"list1[1]: \", list1[1])\n",
    "print (\"list1[-1]: \", list1[-1])\n",
    "list1[3]=2018;\n",
    "print (list1)\n",
    "del list1[2];\n",
    "print (\"After deleting value at index 2 : \", list1)\n",
    "print(\"length of list1: \",len(list1))\n",
    "list2 = [1764, 2006, 1993, 2017];\n",
    "print (\"list2:\", list2)\n",
    "print(\"Max of list2: \",max(list2))\n",
    "print(\"Min of list2: \",min(list2))\n",
    "list2.append(9999)\n",
    "print (\"list2:\", list2)\n",
    "list2.insert(3, 3493)\n",
    "print (\"list2:\", list2)\n",
    "print(\"count 9999 :\",list2.count(9999))\n",
    "\n",
    "                #SORTING Lists\n",
    "list2.sort()\n",
    "print (\"list2 sort:\", list2)\n",
    "print(\"list2 sorted:\", sorted(list2))\n",
    "print(\"list2 sorted reverse:\", sorted(list2,reverse=True))\n",
    "\n",
    "list3 = ['zzz', 'dmello','Dmello' ,'Asher','asher','aaa'];\n",
    "print (\"list3 \", list3)\n",
    "list3.sort()\n",
    "print (\"list3 sort:\", list3)\n",
    "print(\"list3 sorted:\", sorted(list3))\n",
    "print(\"list3 sorted reverse:\", sorted(list3,reverse=True))"
   ]
  },
  {
   "cell_type": "code",
   "execution_count": 89,
   "metadata": {},
   "outputs": [
    {
     "name": "stdout",
     "output_type": "stream",
     "text": [
      "dict1['Name']:  Asher\n",
      "dict1['Age']:  24\n",
      "dict1['Class']:  Intro to Data Science\n",
      "dict2['Name']:  Jane\n",
      "dict2['Age']:  12\n",
      "dict3['Class']:  Mathematics\n",
      "dict1 length 3\n",
      "dict2['Age'] updatd:  8\n",
      "dict2['School'] added:  DPS School\n",
      "dict1 after delete name:  {'Age': 24, 'Class': 'Intro to Data Science'}\n",
      "dict1 after clear:  {}\n",
      "dict_keys(['Name', 'Age', 'Class', 'School'])\n",
      "dict_values(['Jane', 8, 'Mathematics', 'DPS School'])\n",
      "dict_items([('Name', 'Jane'), ('Age', 8), ('Class', 'Mathematics'), ('School', 'DPS School')])\n",
      "dict3 : dict_values([17, 8, 31])\n",
      "dict3 sorted values: [8, 17, 31]\n",
      "dict3 reverse sorted values: [31, 17, 8]\n"
     ]
    }
   ],
   "source": [
    "# Python Dicts example\n",
    "# Asher Dmello\n",
    "#Reference: https://www.tutorialspoint.com/python/python_strings.htm\n",
    "# Question: Create multiple dicts and manipulate them using functions\n",
    "# Solution:\n",
    "\n",
    "dict1 = {'Name': 'Asher', 'Age': 24, 'Class': 'Intro to Data Science'}\n",
    "dict2 = {'Name': 'Jane', 'Age': 12, 'Class': 'Mathematics'}\n",
    "\n",
    "print (\"dict1['Name']: \", dict1['Name'])\n",
    "print (\"dict1['Age']: \", dict1['Age'])\n",
    "print (\"dict1['Class']: \", dict1['Class'])\n",
    "\n",
    "\n",
    "\n",
    "print (\"dict2['Name']: \", dict2['Name'])\n",
    "print (\"dict2['Age']: \", dict2['Age'])\n",
    "print (\"dict3['Class']: \", dict2['Class'])\n",
    "\n",
    "print(\"dict1 length\",len(dict1))\n",
    "\n",
    "dict2['Age'] = 8; # update existing entry\n",
    "dict2['School'] = \"DPS School\"; # Add new entry\n",
    "print (\"dict2['Age'] updatd: \", dict2['Age'])\n",
    "print (\"dict2['School'] added: \", dict2['School'])\n",
    "\n",
    "del dict1['Name']; # remove entry with key 'Name'\n",
    "#print (\"dict1['Name'] updated: \", dict1['Name'])\n",
    "print (\"dict1 after delete name: \", dict1)\n",
    "dict1.clear();     # remove all entries in dict\n",
    "print (\"dict1 after clear: \", dict1)\n",
    "del dict1 ;        # delete entire dictionary\n",
    "print(dict2.keys())\n",
    "print(dict2.values())\n",
    "print(dict2.items())\n",
    "\n",
    "dict3 = {'A': 17, 'B': 8, 'C': 31}\n",
    "print(\"dict3 :\",dict3.values())\n",
    "print(\"dict3 sorted values:\",sorted(dict3.values()))\n",
    "print(\"dict3 reverse sorted values:\",sorted(dict3.values(),reverse=True))"
   ]
  },
  {
   "cell_type": "code",
   "execution_count": null,
   "metadata": {
    "collapsed": true
   },
   "outputs": [],
   "source": []
  }
 ],
 "metadata": {
  "kernelspec": {
   "display_name": "Python 3",
   "language": "python",
   "name": "python3"
  },
  "language_info": {
   "codemirror_mode": {
    "name": "ipython",
    "version": 3
   },
   "file_extension": ".py",
   "mimetype": "text/x-python",
   "name": "python",
   "nbconvert_exporter": "python",
   "pygments_lexer": "ipython3",
   "version": "3.6.1"
  }
 },
 "nbformat": 4,
 "nbformat_minor": 2
}
